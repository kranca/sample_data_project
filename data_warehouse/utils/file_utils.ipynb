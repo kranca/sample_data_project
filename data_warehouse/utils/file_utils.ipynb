{
 "cells": [
  {
   "cell_type": "code",
   "execution_count": 0,
   "metadata": {
    "application/vnd.databricks.v1+cell": {
     "cellMetadata": {},
     "inputWidgets": {},
     "nuid": "175e4a6c-9998-480c-aa81-ba02c9ad9e50",
     "showTitle": false,
     "tableResultSettingsMap": {},
     "title": ""
    }
   },
   "outputs": [],
   "source": [
    "import re\n",
    "from pathlib import Path\n",
    "\n",
    "def clean_file_name(filename: str) -> str:\n",
    "    \"\"\"\n",
    "    Clean a filename string by removing spaces, replacing dots with underscores,\n",
    "    and removing the file extension.\n",
    "\n",
    "    Args:\n",
    "        filename (str): Original filename.\n",
    "\n",
    "    Returns:\n",
    "        str: Cleaned filename suitable for dictionary keys or variable names.\n",
    "    \"\"\"\n",
    "    p = Path(filename)\n",
    "    name = p.stem  # filename without extension\n",
    "\n",
    "    name = re.sub(r'[^a-z0-9]+', '_', name.lower())\n",
    "    return name"
   ]
  }
 ],
 "metadata": {
  "application/vnd.databricks.v1+notebook": {
   "computePreferences": null,
   "dashboards": [],
   "environmentMetadata": {
    "base_environment": "",
    "environment_version": "2"
   },
   "inputWidgetPreferences": null,
   "language": "python",
   "notebookMetadata": {
    "pythonIndentUnit": 4
   },
   "notebookName": "file_utils",
   "widgets": {}
  },
  "language_info": {
   "name": "python"
  }
 },
 "nbformat": 4,
 "nbformat_minor": 0
}
